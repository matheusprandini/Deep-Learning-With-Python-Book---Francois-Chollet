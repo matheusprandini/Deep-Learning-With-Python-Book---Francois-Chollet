{
 "cells": [
  {
   "cell_type": "markdown",
   "metadata": {},
   "source": [
    "# CLASSIFYING NEWSWIRES: A MULTICLASS CLASSIFICATION EXAMPLE"
   ]
  },
  {
   "cell_type": "markdown",
   "metadata": {},
   "source": [
    "## Loading the Reuters dataset"
   ]
  },
  {
   "cell_type": "code",
   "execution_count": 1,
   "metadata": {},
   "outputs": [
    {
     "name": "stderr",
     "output_type": "stream",
     "text": [
      "Using TensorFlow backend.\n"
     ]
    }
   ],
   "source": [
    "from keras.datasets import reuters\n",
    "\n",
    "(train_data, train_labels), (test_data, test_labels) = reuters.load_data(num_words=10000)"
   ]
  },
  {
   "cell_type": "code",
   "execution_count": 2,
   "metadata": {},
   "outputs": [
    {
     "data": {
      "text/plain": [
       "8982"
      ]
     },
     "execution_count": 2,
     "metadata": {},
     "output_type": "execute_result"
    }
   ],
   "source": [
    "len(train_data)"
   ]
  },
  {
   "cell_type": "code",
   "execution_count": 3,
   "metadata": {},
   "outputs": [
    {
     "data": {
      "text/plain": [
       "2246"
      ]
     },
     "execution_count": 3,
     "metadata": {},
     "output_type": "execute_result"
    }
   ],
   "source": [
    "len(test_data)"
   ]
  },
  {
   "cell_type": "code",
   "execution_count": 4,
   "metadata": {},
   "outputs": [
    {
     "data": {
      "text/plain": [
       "[1,\n",
       " 245,\n",
       " 273,\n",
       " 207,\n",
       " 156,\n",
       " 53,\n",
       " 74,\n",
       " 160,\n",
       " 26,\n",
       " 14,\n",
       " 46,\n",
       " 296,\n",
       " 26,\n",
       " 39,\n",
       " 74,\n",
       " 2979,\n",
       " 3554,\n",
       " 14,\n",
       " 46,\n",
       " 4689,\n",
       " 4329,\n",
       " 86,\n",
       " 61,\n",
       " 3499,\n",
       " 4795,\n",
       " 14,\n",
       " 61,\n",
       " 451,\n",
       " 4329,\n",
       " 17,\n",
       " 12]"
      ]
     },
     "execution_count": 4,
     "metadata": {},
     "output_type": "execute_result"
    }
   ],
   "source": [
    "train_data[10]"
   ]
  },
  {
   "cell_type": "code",
   "execution_count": 5,
   "metadata": {},
   "outputs": [],
   "source": [
    "# Decoding newswires back to text\n",
    "word_index = reuters.get_word_index()\n",
    "reverse_word_index = dict([(value, key) for (key, value) in word_index.items()])\n",
    "decoded_newswire = ' '.join([reverse_word_index.get(i - 3, '?') for i in train_data[0]])"
   ]
  },
  {
   "cell_type": "code",
   "execution_count": 6,
   "metadata": {},
   "outputs": [
    {
     "name": "stdout",
     "output_type": "stream",
     "text": [
      "? ? ? said as a result of its december acquisition of space co it expects earnings per share in 1987 of 1 15 to 1 30 dlrs per share up from 70 cts in 1986 the company said pretax net should rise to nine to 10 mln dlrs from six mln dlrs in 1986 and rental operation revenues to 19 to 22 mln dlrs from 12 5 mln dlrs it said cash flow per share this year should be 2 50 to three dlrs reuter 3\n"
     ]
    }
   ],
   "source": [
    "print(decoded_newswire)"
   ]
  },
  {
   "cell_type": "code",
   "execution_count": 7,
   "metadata": {},
   "outputs": [
    {
     "data": {
      "text/plain": [
       "3"
      ]
     },
     "execution_count": 7,
     "metadata": {},
     "output_type": "execute_result"
    }
   ],
   "source": [
    "train_labels[10]"
   ]
  },
  {
   "cell_type": "markdown",
   "metadata": {},
   "source": [
    "## Preparing the data"
   ]
  },
  {
   "cell_type": "code",
   "execution_count": 8,
   "metadata": {},
   "outputs": [],
   "source": [
    "# Encoding the data\n",
    "import numpy as np\n",
    "\n",
    "def vectorize_sequences(sequences, dimension=10000):\n",
    "    results = np.zeros((len(sequences), dimension))\n",
    "    for i, sequence in enumerate(sequences):\n",
    "        results[i, sequence] = 1.\n",
    "    return results\n",
    "\n",
    "x_train = vectorize_sequences(train_data) # Vectorized training data\n",
    "x_test = vectorize_sequences(test_data) # Vectorized test data"
   ]
  },
  {
   "cell_type": "code",
   "execution_count": 14,
   "metadata": {},
   "outputs": [],
   "source": [
    "# One-hot encoding applied to the labels\n",
    "from keras.utils.np_utils import to_categorical\n",
    "\n",
    "one_hot_train_labels = to_categorical(train_labels)\n",
    "one_hot_test_labels = to_categorical(test_labels)"
   ]
  },
  {
   "cell_type": "code",
   "execution_count": 9,
   "metadata": {},
   "outputs": [
    {
     "data": {
      "text/plain": [
       "10000"
      ]
     },
     "execution_count": 9,
     "metadata": {},
     "output_type": "execute_result"
    }
   ],
   "source": [
    "len(x_train[0])"
   ]
  },
  {
   "cell_type": "code",
   "execution_count": 10,
   "metadata": {},
   "outputs": [
    {
     "data": {
      "text/plain": [
       "array([ 0.,  1.,  1., ...,  0.,  0.,  0.])"
      ]
     },
     "execution_count": 10,
     "metadata": {},
     "output_type": "execute_result"
    }
   ],
   "source": [
    "x_train[0]"
   ]
  },
  {
   "cell_type": "markdown",
   "metadata": {},
   "source": [
    "## Building the Network"
   ]
  },
  {
   "cell_type": "code",
   "execution_count": 11,
   "metadata": {},
   "outputs": [],
   "source": [
    "# Model definition\n",
    "from keras import models\n",
    "from keras import layers\n",
    "\n",
    "model = models.Sequential()\n",
    "model.add(layers.Dense(64, activation='relu', input_shape=(10000,)))\n",
    "model.add(layers.Dense(64, activation='relu'))\n",
    "model.add(layers.Dense(46, activation='softmax'))"
   ]
  },
  {
   "cell_type": "code",
   "execution_count": 12,
   "metadata": {},
   "outputs": [],
   "source": [
    "# Compiling the model\n",
    "model.compile(optimizer='rmsprop',\n",
    "              loss='categorical_crossentropy',\n",
    "              metrics=['accuracy'])"
   ]
  },
  {
   "cell_type": "markdown",
   "metadata": {},
   "source": [
    "## Validating the approach"
   ]
  },
  {
   "cell_type": "code",
   "execution_count": 15,
   "metadata": {},
   "outputs": [],
   "source": [
    "# Separating data into training and validation sets\n",
    "x_val = x_train[:1000]\n",
    "partial_x_train = x_train[1000:]\n",
    "\n",
    "y_val = one_hot_train_labels[:1000]\n",
    "partial_y_train = one_hot_train_labels[1000:]"
   ]
  },
  {
   "cell_type": "code",
   "execution_count": 16,
   "metadata": {},
   "outputs": [
    {
     "name": "stdout",
     "output_type": "stream",
     "text": [
      "Train on 7982 samples, validate on 1000 samples\n",
      "Epoch 1/20\n",
      "7982/7982 [==============================] - 2s 305us/step - loss: 2.5295 - acc: 0.4950 - val_loss: 1.7200 - val_acc: 0.6120\n",
      "Epoch 2/20\n",
      "7982/7982 [==============================] - 2s 282us/step - loss: 1.4454 - acc: 0.6883 - val_loss: 1.3476 - val_acc: 0.7070\n",
      "Epoch 3/20\n",
      "7982/7982 [==============================] - 2s 299us/step - loss: 1.0954 - acc: 0.7643 - val_loss: 1.1716 - val_acc: 0.7430\n",
      "Epoch 4/20\n",
      "7982/7982 [==============================] - 2s 280us/step - loss: 0.8697 - acc: 0.8162 - val_loss: 1.0836 - val_acc: 0.7580\n",
      "Epoch 5/20\n",
      "7982/7982 [==============================] - 2s 251us/step - loss: 0.7037 - acc: 0.8479 - val_loss: 0.9846 - val_acc: 0.7820\n",
      "Epoch 6/20\n",
      "7982/7982 [==============================] - 2s 295us/step - loss: 0.5678 - acc: 0.8796 - val_loss: 0.9399 - val_acc: 0.8030\n",
      "Epoch 7/20\n",
      "7982/7982 [==============================] - 2s 286us/step - loss: 0.4612 - acc: 0.9038 - val_loss: 0.9078 - val_acc: 0.8030\n",
      "Epoch 8/20\n",
      "7982/7982 [==============================] - 2s 285us/step - loss: 0.3723 - acc: 0.9222 - val_loss: 0.9386 - val_acc: 0.7890\n",
      "Epoch 9/20\n",
      "7982/7982 [==============================] - 2s 252us/step - loss: 0.3055 - acc: 0.9305 - val_loss: 0.8917 - val_acc: 0.8070\n",
      "Epoch 10/20\n",
      "7982/7982 [==============================] - 2s 281us/step - loss: 0.2557 - acc: 0.9414 - val_loss: 0.9072 - val_acc: 0.8150\n",
      "Epoch 11/20\n",
      "7982/7982 [==============================] - 2s 255us/step - loss: 0.2203 - acc: 0.9464 - val_loss: 0.9192 - val_acc: 0.8130\n",
      "Epoch 12/20\n",
      "7982/7982 [==============================] - 2s 281us/step - loss: 0.1887 - acc: 0.9509 - val_loss: 0.9060 - val_acc: 0.8140\n",
      "Epoch 13/20\n",
      "7982/7982 [==============================] - 2s 276us/step - loss: 0.1711 - acc: 0.9526 - val_loss: 0.9360 - val_acc: 0.8090\n",
      "Epoch 14/20\n",
      "7982/7982 [==============================] - 2s 247us/step - loss: 0.1544 - acc: 0.9557 - val_loss: 0.9690 - val_acc: 0.8050\n",
      "Epoch 15/20\n",
      "7982/7982 [==============================] - 2s 288us/step - loss: 0.1397 - acc: 0.9554 - val_loss: 0.9690 - val_acc: 0.8130\n",
      "Epoch 16/20\n",
      "7982/7982 [==============================] - 2s 305us/step - loss: 0.1320 - acc: 0.9558 - val_loss: 1.0251 - val_acc: 0.8030\n",
      "Epoch 17/20\n",
      "7982/7982 [==============================] - 2s 295us/step - loss: 0.1223 - acc: 0.9579 - val_loss: 1.0311 - val_acc: 0.7960\n",
      "Epoch 18/20\n",
      "7982/7982 [==============================] - 2s 285us/step - loss: 0.1202 - acc: 0.9578 - val_loss: 1.0475 - val_acc: 0.8020\n",
      "Epoch 19/20\n",
      "7982/7982 [==============================] - 2s 278us/step - loss: 0.1143 - acc: 0.9597 - val_loss: 1.1036 - val_acc: 0.7990\n",
      "Epoch 20/20\n",
      "7982/7982 [==============================] - 2s 256us/step - loss: 0.1116 - acc: 0.9598 - val_loss: 1.0751 - val_acc: 0.8000\n"
     ]
    }
   ],
   "source": [
    "# Training the model\n",
    "history = model.fit(partial_x_train,\n",
    "                    partial_y_train,\n",
    "                    epochs=20,\n",
    "                    batch_size=512,\n",
    "                    validation_data=(x_val, y_val))"
   ]
  },
  {
   "cell_type": "code",
   "execution_count": 17,
   "metadata": {},
   "outputs": [
    {
     "data": {
      "image/png": "[encoded data removed]",
      "text/plain": [
       "<matplotlib.figure.Figure at 0x14c00e490d30>"
      ]
     },
     "metadata": {},
     "output_type": "display_data"
    }
   ],
   "source": [
    "# Plotting the training and validation loss\n",
    "import matplotlib.pyplot as plt\n",
    "\n",
    "loss = history.history['loss']\n",
    "val_loss = history.history['val_loss']\n",
    "\n",
    "epochs = range(1, len(loss) + 1)\n",
    "\n",
    "plt.plot(epochs, loss, 'bo', label='Training loss')\n",
    "plt.plot(epochs, val_loss, 'b', label='Validation loss')\n",
    "plt.title('Training and validation loss')\n",
    "plt.xlabel('Epochs')\n",
    "plt.ylabel('Loss')\n",
    "plt.legend()\n",
    "\n",
    "plt.show()"
   ]
  },
  {
   "cell_type": "code",
   "execution_count": 19,
   "metadata": {},
   "outputs": [
    {
     "data": {
      "image/png": "[encoded data removed]",
      "text/plain": [
       "<matplotlib.figure.Figure at 0x14c00f5b48d0>"
      ]
     },
     "metadata": {},
     "output_type": "display_data"
    }
   ],
   "source": [
    "# Plotting the training and validation accuracy\n",
    "plt.clf()\n",
    "\n",
    "acc = history.history['acc']\n",
    "val_acc = history.history['val_acc']\n",
    "\n",
    "plt.plot(epochs, acc, 'bo', label='Training acc')\n",
    "plt.plot(epochs, val_acc, 'b', label='Validation acc')\n",
    "plt.title('Training and validation accuracy')\n",
    "plt.xlabel('Epochs')\n",
    "plt.ylabel('Loss')\n",
    "plt.legend()\n",
    "\n",
    "plt.show()"
   ]
  },
  {
   "cell_type": "code",
   "execution_count": 20,
   "metadata": {},
   "outputs": [
    {
     "name": "stdout",
     "output_type": "stream",
     "text": [
      "Train on 7982 samples, validate on 1000 samples\n",
      "Epoch 1/9\n",
      "7982/7982 [==============================] - 2s 293us/step - loss: 2.5414 - acc: 0.5229 - val_loss: 1.6816 - val_acc: 0.6520\n",
      "Epoch 2/9\n",
      "7982/7982 [==============================] - 2s 262us/step - loss: 1.3797 - acc: 0.7095 - val_loss: 1.2832 - val_acc: 0.7200\n",
      "Epoch 3/9\n",
      "7982/7982 [==============================] - 2s 287us/step - loss: 1.0221 - acc: 0.7772 - val_loss: 1.1339 - val_acc: 0.7500\n",
      "Epoch 4/9\n",
      "7982/7982 [==============================] - 2s 286us/step - loss: 0.8040 - acc: 0.8239 - val_loss: 1.0546 - val_acc: 0.7580\n",
      "Epoch 5/9\n",
      "7982/7982 [==============================] - 2s 260us/step - loss: 0.6434 - acc: 0.8622 - val_loss: 0.9783 - val_acc: 0.7970\n",
      "Epoch 6/9\n",
      "7982/7982 [==============================] - 2s 264us/step - loss: 0.5147 - acc: 0.8931 - val_loss: 0.9118 - val_acc: 0.8130\n",
      "Epoch 7/9\n",
      "7982/7982 [==============================] - 2s 265us/step - loss: 0.4144 - acc: 0.9146 - val_loss: 0.8964 - val_acc: 0.8250\n",
      "Epoch 8/9\n",
      "7982/7982 [==============================] - 2s 285us/step - loss: 0.3374 - acc: 0.9287 - val_loss: 0.8770 - val_acc: 0.8230\n",
      "Epoch 9/9\n",
      "7982/7982 [==============================] - 2s 286us/step - loss: 0.2805 - acc: 0.9372 - val_loss: 0.9417 - val_acc: 0.8010\n",
      "2246/2246 [==============================] - 1s 581us/step\n"
     ]
    }
   ],
   "source": [
    "# Retraining a model from scratch\n",
    "model = models.Sequential()\n",
    "model.add(layers.Dense(64, activation='relu', input_shape=(10000,)))\n",
    "model.add(layers.Dense(64, activation='relu'))\n",
    "model.add(layers.Dense(46, activation='softmax'))\n",
    "\n",
    "model.compile(optimizer='rmsprop',\n",
    "              loss='categorical_crossentropy',\n",
    "              metrics=['accuracy'])\n",
    "model.fit(partial_x_train,\n",
    "          partial_y_train,\n",
    "          epochs=9,\n",
    "          batch_size=512,\n",
    "          validation_data=(x_val, y_val))\n",
    "results = model.evaluate(x_test, one_hot_test_labels)"
   ]
  },
  {
   "cell_type": "code",
   "execution_count": 21,
   "metadata": {},
   "outputs": [
    {
     "data": {
      "text/plain": [
       "[1.023383226972123, 0.7791629564199507]"
      ]
     },
     "execution_count": 21,
     "metadata": {},
     "output_type": "execute_result"
    }
   ],
   "source": [
    "results"
   ]
  },
  {
   "cell_type": "code",
   "execution_count": 22,
   "metadata": {},
   "outputs": [
    {
     "data": {
      "text/plain": [
       "0.182546749777382"
      ]
     },
     "execution_count": 22,
     "metadata": {},
     "output_type": "execute_result"
    }
   ],
   "source": [
    "# Random baseline\n",
    "import copy\n",
    "test_labels_copy = copy.copy(test_labels)\n",
    "np.random.shuffle(test_labels_copy)\n",
    "hits_array = np.array(test_labels) == np.array(test_labels_copy)\n",
    "float(np.sum(hits_array)) / len(test_labels)"
   ]
  },
  {
   "cell_type": "markdown",
   "metadata": {},
   "source": [
    "## Generating predictions for new data"
   ]
  },
  {
   "cell_type": "code",
   "execution_count": 23,
   "metadata": {},
   "outputs": [],
   "source": [
    "predictions = model.predict(x_test)"
   ]
  },
  {
   "cell_type": "code",
   "execution_count": 24,
   "metadata": {},
   "outputs": [
    {
     "data": {
      "text/plain": [
       "(46,)"
      ]
     },
     "execution_count": 24,
     "metadata": {},
     "output_type": "execute_result"
    }
   ],
   "source": [
    "predictions[0].shape"
   ]
  },
  {
   "cell_type": "code",
   "execution_count": 25,
   "metadata": {},
   "outputs": [
    {
     "data": {
      "text/plain": [
       "1.0000001"
      ]
     },
     "execution_count": 25,
     "metadata": {},
     "output_type": "execute_result"
    }
   ],
   "source": [
    "np.sum(predictions[0])"
   ]
  },
  {
   "cell_type": "code",
   "execution_count": 26,
   "metadata": {},
   "outputs": [
    {
     "data": {
      "text/plain": [
       "3"
      ]
     },
     "execution_count": 26,
     "metadata": {},
     "output_type": "execute_result"
    }
   ],
   "source": [
    "np.argmax(predictions[0])"
   ]
  },
  {
   "cell_type": "markdown",
   "metadata": {},
   "source": [
    "## A different way to handle the labels and loss"
   ]
  },
  {
   "cell_type": "code",
   "execution_count": 27,
   "metadata": {},
   "outputs": [],
   "source": [
    "# Encode the labels casting them as an integer tensor\n",
    "y_train = np.array(train_labels)\n",
    "y_test = np.array(test_labels)"
   ]
  },
  {
   "cell_type": "code",
   "execution_count": 28,
   "metadata": {},
   "outputs": [],
   "source": [
    "model.compile(optimizer='rmsprop',\n",
    "              loss='sparse_categorical_crossentropy', # Chaning the loss function\n",
    "              metrics=['acc'])"
   ]
  },
  {
   "cell_type": "code",
   "execution_count": 30,
   "metadata": {},
   "outputs": [
    {
     "name": "stdout",
     "output_type": "stream",
     "text": [
      "Epoch 1/9\n",
      "8982/8982 [==============================] - 2s 268us/step - loss: 0.3326 - acc: 0.9299\n",
      "Epoch 2/9\n",
      "8982/8982 [==============================] - 2s 269us/step - loss: 0.2429 - acc: 0.9400\n",
      "Epoch 3/9\n",
      "8982/8982 [==============================] - 2s 258us/step - loss: 0.2105 - acc: 0.9475\n",
      "Epoch 4/9\n",
      "8982/8982 [==============================] - 2s 278us/step - loss: 0.1849 - acc: 0.9492\n",
      "Epoch 5/9\n",
      "8982/8982 [==============================] - 2s 265us/step - loss: 0.1693 - acc: 0.9498\n",
      "Epoch 6/9\n",
      "8982/8982 [==============================] - 2s 264us/step - loss: 0.1546 - acc: 0.9536\n",
      "Epoch 7/9\n",
      "8982/8982 [==============================] - 3s 286us/step - loss: 0.1439 - acc: 0.9535\n",
      "Epoch 8/9\n",
      "8982/8982 [==============================] - 2s 269us/step - loss: 0.1346 - acc: 0.9554\n",
      "Epoch 9/9\n",
      "8982/8982 [==============================] - 2s 246us/step - loss: 0.1312 - acc: 0.9541\n",
      "2246/2246 [==============================] - 1s 518us/step\n"
     ]
    }
   ],
   "source": [
    "model.fit(x_train,\n",
    "          y_train,\n",
    "          epochs=9,\n",
    "          batch_size=512)\n",
    "results = model.evaluate(x_test, y_test)"
   ]
  },
  {
   "cell_type": "code",
   "execution_count": 31,
   "metadata": {},
   "outputs": [
    {
     "data": {
      "text/plain": [
       "[1.188918552543049, 0.78539626001780949]"
      ]
     },
     "execution_count": 31,
     "metadata": {},
     "output_type": "execute_result"
    }
   ],
   "source": [
    "results"
   ]
  },
  {
   "cell_type": "markdown",
   "metadata": {},
   "source": [
    "## The importance of having sufficiently large intermediate layers"
   ]
  },
  {
   "cell_type": "code",
   "execution_count": 32,
   "metadata": {},
   "outputs": [
    {
     "name": "stdout",
     "output_type": "stream",
     "text": [
      "Train on 7982 samples, validate on 1000 samples\n",
      "Epoch 1/20\n",
      "7982/7982 [==============================] - 5s 572us/step - loss: 3.1600 - acc: 0.0836 - val_loss: 2.5152 - val_acc: 0.3370\n",
      "Epoch 2/20\n",
      "7982/7982 [==============================] - 4s 502us/step - loss: 1.8887 - acc: 0.5786 - val_loss: 1.6086 - val_acc: 0.5770\n",
      "Epoch 3/20\n",
      "7982/7982 [==============================] - 4s 535us/step - loss: 1.3707 - acc: 0.6110 - val_loss: 1.4351 - val_acc: 0.6060\n",
      "Epoch 4/20\n",
      "7982/7982 [==============================] - 4s 499us/step - loss: 1.1560 - acc: 0.6963 - val_loss: 1.3273 - val_acc: 0.6840\n",
      "Epoch 5/20\n",
      "7982/7982 [==============================] - 4s 515us/step - loss: 1.0101 - acc: 0.7509 - val_loss: 1.2913 - val_acc: 0.7010\n",
      "Epoch 6/20\n",
      "7982/7982 [==============================] - 4s 513us/step - loss: 0.9090 - acc: 0.7670 - val_loss: 1.2661 - val_acc: 0.7070\n",
      "Epoch 7/20\n",
      "7982/7982 [==============================] - 4s 525us/step - loss: 0.8283 - acc: 0.7771 - val_loss: 1.2756 - val_acc: 0.7060\n",
      "Epoch 8/20\n",
      "7982/7982 [==============================] - 4s 518us/step - loss: 0.7651 - acc: 0.7875 - val_loss: 1.2865 - val_acc: 0.7050\n",
      "Epoch 9/20\n",
      "7982/7982 [==============================] - 4s 552us/step - loss: 0.7098 - acc: 0.8044 - val_loss: 1.2974 - val_acc: 0.7200\n",
      "Epoch 10/20\n",
      "7982/7982 [==============================] - 4s 505us/step - loss: 0.6593 - acc: 0.8225 - val_loss: 1.2911 - val_acc: 0.7290\n",
      "Epoch 11/20\n",
      "7982/7982 [==============================] - 4s 502us/step - loss: 0.6176 - acc: 0.8330 - val_loss: 1.3518 - val_acc: 0.7260\n",
      "Epoch 12/20\n",
      "7982/7982 [==============================] - 4s 526us/step - loss: 0.5804 - acc: 0.8390 - val_loss: 1.3928 - val_acc: 0.7260\n",
      "Epoch 13/20\n",
      "7982/7982 [==============================] - 4s 505us/step - loss: 0.5482 - acc: 0.8490 - val_loss: 1.4661 - val_acc: 0.7260\n",
      "Epoch 14/20\n",
      "7982/7982 [==============================] - 4s 497us/step - loss: 0.5216 - acc: 0.8497 - val_loss: 1.4639 - val_acc: 0.7340\n",
      "Epoch 15/20\n",
      "7982/7982 [==============================] - 4s 539us/step - loss: 0.4941 - acc: 0.8557 - val_loss: 1.4935 - val_acc: 0.7310\n",
      "Epoch 16/20\n",
      "7982/7982 [==============================] - 4s 480us/step - loss: 0.4743 - acc: 0.8588 - val_loss: 1.5534 - val_acc: 0.7290\n",
      "Epoch 17/20\n",
      "7982/7982 [==============================] - 4s 527us/step - loss: 0.4560 - acc: 0.8629 - val_loss: 1.5626 - val_acc: 0.7320\n",
      "Epoch 18/20\n",
      "7982/7982 [==============================] - 4s 488us/step - loss: 0.4341 - acc: 0.8691 - val_loss: 1.5861 - val_acc: 0.7350\n",
      "Epoch 19/20\n",
      "7982/7982 [==============================] - 4s 512us/step - loss: 0.4181 - acc: 0.8731 - val_loss: 1.6538 - val_acc: 0.7320\n",
      "Epoch 20/20\n",
      "7982/7982 [==============================] - 4s 554us/step - loss: 0.4023 - acc: 0.8786 - val_loss: 1.7030 - val_acc: 0.7250\n"
     ]
    },
    {
     "data": {
      "text/plain": [
       "<keras.callbacks.History at 0x14bed001fda0>"
      ]
     },
     "execution_count": 32,
     "metadata": {},
     "output_type": "execute_result"
    }
   ],
   "source": [
    "# A model with an information bottleneck -> 8% drop of val_acc\n",
    "model = models.Sequential()\n",
    "model.add(layers.Dense(64, activation='relu', input_shape=(10000,)))\n",
    "model.add(layers.Dense(4, activation='relu')) # 4 hidden units\n",
    "model.add(layers.Dense(46, activation='softmax'))\n",
    "\n",
    "model.compile(optimizer='rmsprop',\n",
    "              loss='categorical_crossentropy',\n",
    "              metrics=['accuracy'])\n",
    "model.fit(partial_x_train,\n",
    "          partial_y_train,\n",
    "          epochs=20,\n",
    "          batch_size=128,\n",
    "          validation_data=(x_val, y_val))"
   ]
  },
  {
   "cell_type": "markdown",
   "metadata": {},
   "source": [
    "## Further experiment"
   ]
  },
  {
   "cell_type": "code",
   "execution_count": 34,
   "metadata": {},
   "outputs": [
    {
     "name": "stdout",
     "output_type": "stream",
     "text": [
      "Train on 7982 samples, validate on 1000 samples\n",
      "Epoch 1/20\n",
      "7982/7982 [==============================] - 2s 265us/step - loss: 2.8127 - acc: 0.4015 - val_loss: 1.7665 - val_acc: 0.5760\n",
      "Epoch 2/20\n",
      "7982/7982 [==============================] - 2s 240us/step - loss: 1.5201 - acc: 0.6513 - val_loss: 1.3710 - val_acc: 0.6720\n",
      "Epoch 3/20\n",
      "7982/7982 [==============================] - 2s 258us/step - loss: 1.1386 - acc: 0.7291 - val_loss: 1.2177 - val_acc: 0.7400\n",
      "Epoch 4/20\n",
      "7982/7982 [==============================] - 2s 239us/step - loss: 0.8843 - acc: 0.8039 - val_loss: 1.1004 - val_acc: 0.7740\n",
      "Epoch 5/20\n",
      "7982/7982 [==============================] - 2s 246us/step - loss: 0.7472 - acc: 0.8340 - val_loss: 1.0250 - val_acc: 0.7790\n",
      "Epoch 6/20\n",
      "7982/7982 [==============================] - 2s 234us/step - loss: 0.5901 - acc: 0.8708 - val_loss: 1.0648 - val_acc: 0.7720\n",
      "Epoch 7/20\n",
      "7982/7982 [==============================] - 2s 223us/step - loss: 0.4597 - acc: 0.8985 - val_loss: 1.0289 - val_acc: 0.7800\n",
      "Epoch 8/20\n",
      "7982/7982 [==============================] - 2s 252us/step - loss: 0.4572 - acc: 0.8948 - val_loss: 0.9059 - val_acc: 0.8100\n",
      "Epoch 9/20\n",
      "7982/7982 [==============================] - 2s 245us/step - loss: 0.3011 - acc: 0.9357 - val_loss: 0.9834 - val_acc: 0.7940\n",
      "Epoch 10/20\n",
      "7982/7982 [==============================] - 2s 255us/step - loss: 0.2759 - acc: 0.9387 - val_loss: 1.0929 - val_acc: 0.7920\n",
      "Epoch 11/20\n",
      "7982/7982 [==============================] - 2s 254us/step - loss: 0.2387 - acc: 0.9406 - val_loss: 0.9095 - val_acc: 0.8120\n",
      "Epoch 12/20\n",
      "7982/7982 [==============================] - 2s 235us/step - loss: 0.1944 - acc: 0.9521 - val_loss: 1.0973 - val_acc: 0.7840\n",
      "Epoch 13/20\n",
      "7982/7982 [==============================] - 2s 237us/step - loss: 0.3004 - acc: 0.9257 - val_loss: 0.9183 - val_acc: 0.8220\n",
      "Epoch 14/20\n",
      "7982/7982 [==============================] - 2s 231us/step - loss: 0.1466 - acc: 0.9567 - val_loss: 0.9508 - val_acc: 0.8210\n",
      "Epoch 15/20\n",
      "7982/7982 [==============================] - 2s 247us/step - loss: 0.1386 - acc: 0.9577 - val_loss: 0.9784 - val_acc: 0.8190\n",
      "Epoch 16/20\n",
      "7982/7982 [==============================] - 2s 243us/step - loss: 0.1406 - acc: 0.9564 - val_loss: 0.9936 - val_acc: 0.8070\n",
      "Epoch 17/20\n",
      "7982/7982 [==============================] - 2s 233us/step - loss: 0.1381 - acc: 0.9553 - val_loss: 1.0179 - val_acc: 0.8030\n",
      "Epoch 18/20\n",
      "7982/7982 [==============================] - 2s 248us/step - loss: 0.1224 - acc: 0.9597 - val_loss: 1.0695 - val_acc: 0.7970\n",
      "Epoch 19/20\n",
      "7982/7982 [==============================] - 2s 246us/step - loss: 0.1664 - acc: 0.9494 - val_loss: 0.9982 - val_acc: 0.8180\n",
      "Epoch 20/20\n",
      "7982/7982 [==============================] - 2s 260us/step - loss: 0.1126 - acc: 0.9568 - val_loss: 1.0422 - val_acc: 0.7990\n"
     ]
    },
    {
     "data": {
      "text/plain": [
       "<keras.callbacks.History at 0x14bd70d0e1d0>"
      ]
     },
     "execution_count": 34,
     "metadata": {},
     "output_type": "execute_result"
    }
   ],
   "source": [
    "# A model with three hidden layers each of them with 128 hidden unit and increasing batch size\n",
    "model = models.Sequential()\n",
    "model.add(layers.Dense(128, activation='relu', input_shape=(10000,)))\n",
    "model.add(layers.Dense(128, activation='relu'))\n",
    "model.add(layers.Dense(128, activation='relu'))\n",
    "model.add(layers.Dense(46, activation='softmax'))\n",
    "\n",
    "model.compile(optimizer='rmsprop',\n",
    "              loss='categorical_crossentropy',\n",
    "              metrics=['accuracy'])\n",
    "model.fit(partial_x_train,\n",
    "          partial_y_train,\n",
    "          epochs=20,\n",
    "          batch_size=1024,\n",
    "          validation_data=(x_val, y_val))"
   ]
  },
  {
   "cell_type": "code",
   "execution_count": null,
   "metadata": {},
   "outputs": [],
   "source": []
  }
 ],
 "metadata": {
  "kernelspec": {
   "display_name": "Python 3 (Intel, 2018)",
   "language": "python",
   "name": "intel_distribution_of_python_3_2018"
  },
  "language_info": {
   "codemirror_mode": {
    "name": "ipython",
    "version": 3
   },
   "file_extension": ".py",
   "mimetype": "text/x-python",
   "name": "python",
   "nbconvert_exporter": "python",
   "pygments_lexer": "ipython3",
   "version": "3.6.2"
  }
 },
 "nbformat": 4,
 "nbformat_minor": 2
}
