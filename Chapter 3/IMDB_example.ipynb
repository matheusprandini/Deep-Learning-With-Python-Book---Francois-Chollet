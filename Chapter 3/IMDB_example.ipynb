{
  "nbformat": 4,
  "nbformat_minor": 0,
  "metadata": {
    "colab": {
      "name": "IMDB_example.ipynb",
      "version": "0.3.2",
      "views": {},
      "default_view": {},
      "provenance": [],
      "collapsed_sections": []
    },
    "kernelspec": {
      "name": "python3",
      "display_name": "Python 3"
    },
    "accelerator": "GPU"
  },
  "cells": [
    {
      "metadata": {
        "id": "vo18AaWulm__",
        "colab_type": "text"
      },
      "cell_type": "markdown",
      "source": [
        "# CLASSIFYING MOVIE REVIEWS: A BINARY CLASSIFICATION EXAMPLE"
      ]
    },
    {
      "metadata": {
        "id": "2OHpw_lKl50W",
        "colab_type": "text"
      },
      "cell_type": "markdown",
      "source": [
        "## Loading the IMDB dataset"
      ]
    },
    {
      "metadata": {
        "id": "_TFTwYDSl1Xl",
        "colab_type": "code",
        "colab": {
          "autoexec": {
            "startup": false,
            "wait_interval": 0
          },
          "base_uri": "https://localhost:8080/",
          "height": 68
        },
        "outputId": "6bd65f26-006a-4a38-8659-6dceeab45243",
        "executionInfo": {
          "status": "ok",
          "timestamp": 1532306831456,
          "user_tz": 180,
          "elapsed": 17377,
          "user": {
            "displayName": "Matheus Prandini",
            "photoUrl": "//lh4.googleusercontent.com/-BBr1ZSZQjdk/AAAAAAAAAAI/AAAAAAAAAJ8/TEhOumGfZjA/s50-c-k-no/photo.jpg",
            "userId": "115063345291042990602"
          }
        }
      },
      "cell_type": "code",
      "source": [
        "from keras.datasets import imdb\n",
        "\n",
        "(train_data, train_labels), (test_data, test_labels) = imdb.load_data(num_words=10000)"
      ],
      "execution_count": 2,
      "outputs": [
        {
          "output_type": "stream",
          "text": [
            "Using TensorFlow backend.\n"
          ],
          "name": "stderr"
        },
        {
          "output_type": "stream",
          "text": [
            "Downloading data from https://s3.amazonaws.com/text-datasets/imdb.npz\n",
            "17465344/17464789 [==============================] - 3s 0us/step\n"
          ],
          "name": "stdout"
        }
      ]
    },
    {
      "metadata": {
        "id": "qPghyIqqmQgZ",
        "colab_type": "code",
        "colab": {
          "autoexec": {
            "startup": false,
            "wait_interval": 0
          },
          "base_uri": "https://localhost:8080/",
          "height": 3723
        },
        "outputId": "a76e5f19-2fd4-4b0d-ee0d-2187645deebe",
        "executionInfo": {
          "status": "ok",
          "timestamp": 1532306842932,
          "user_tz": 180,
          "elapsed": 787,
          "user": {
            "displayName": "Matheus Prandini",
            "photoUrl": "//lh4.googleusercontent.com/-BBr1ZSZQjdk/AAAAAAAAAAI/AAAAAAAAAJ8/TEhOumGfZjA/s50-c-k-no/photo.jpg",
            "userId": "115063345291042990602"
          }
        }
      },
      "cell_type": "code",
      "source": [
        "train_data[0]"
      ],
      "execution_count": 3,
      "outputs": [
        {
          "output_type": "execute_result",
          "data": {
            "text/plain": [
              "[1,\n",
              " 14,\n",
              " 22,\n",
              " 16,\n",
              " 43,\n",
              " 530,\n",
              " 973,\n",
              " 1622,\n",
              " 1385,\n",
              " 65,\n",
              " 458,\n",
              " 4468,\n",
              " 66,\n",
              " 3941,\n",
              " 4,\n",
              " 173,\n",
              " 36,\n",
              " 256,\n",
              " 5,\n",
              " 25,\n",
              " 100,\n",
              " 43,\n",
              " 838,\n",
              " 112,\n",
              " 50,\n",
              " 670,\n",
              " 2,\n",
              " 9,\n",
              " 35,\n",
              " 480,\n",
              " 284,\n",
              " 5,\n",
              " 150,\n",
              " 4,\n",
              " 172,\n",
              " 112,\n",
              " 167,\n",
              " 2,\n",
              " 336,\n",
              " 385,\n",
              " 39,\n",
              " 4,\n",
              " 172,\n",
              " 4536,\n",
              " 1111,\n",
              " 17,\n",
              " 546,\n",
              " 38,\n",
              " 13,\n",
              " 447,\n",
              " 4,\n",
              " 192,\n",
              " 50,\n",
              " 16,\n",
              " 6,\n",
              " 147,\n",
              " 2025,\n",
              " 19,\n",
              " 14,\n",
              " 22,\n",
              " 4,\n",
              " 1920,\n",
              " 4613,\n",
              " 469,\n",
              " 4,\n",
              " 22,\n",
              " 71,\n",
              " 87,\n",
              " 12,\n",
              " 16,\n",
              " 43,\n",
              " 530,\n",
              " 38,\n",
              " 76,\n",
              " 15,\n",
              " 13,\n",
              " 1247,\n",
              " 4,\n",
              " 22,\n",
              " 17,\n",
              " 515,\n",
              " 17,\n",
              " 12,\n",
              " 16,\n",
              " 626,\n",
              " 18,\n",
              " 2,\n",
              " 5,\n",
              " 62,\n",
              " 386,\n",
              " 12,\n",
              " 8,\n",
              " 316,\n",
              " 8,\n",
              " 106,\n",
              " 5,\n",
              " 4,\n",
              " 2223,\n",
              " 5244,\n",
              " 16,\n",
              " 480,\n",
              " 66,\n",
              " 3785,\n",
              " 33,\n",
              " 4,\n",
              " 130,\n",
              " 12,\n",
              " 16,\n",
              " 38,\n",
              " 619,\n",
              " 5,\n",
              " 25,\n",
              " 124,\n",
              " 51,\n",
              " 36,\n",
              " 135,\n",
              " 48,\n",
              " 25,\n",
              " 1415,\n",
              " 33,\n",
              " 6,\n",
              " 22,\n",
              " 12,\n",
              " 215,\n",
              " 28,\n",
              " 77,\n",
              " 52,\n",
              " 5,\n",
              " 14,\n",
              " 407,\n",
              " 16,\n",
              " 82,\n",
              " 2,\n",
              " 8,\n",
              " 4,\n",
              " 107,\n",
              " 117,\n",
              " 5952,\n",
              " 15,\n",
              " 256,\n",
              " 4,\n",
              " 2,\n",
              " 7,\n",
              " 3766,\n",
              " 5,\n",
              " 723,\n",
              " 36,\n",
              " 71,\n",
              " 43,\n",
              " 530,\n",
              " 476,\n",
              " 26,\n",
              " 400,\n",
              " 317,\n",
              " 46,\n",
              " 7,\n",
              " 4,\n",
              " 2,\n",
              " 1029,\n",
              " 13,\n",
              " 104,\n",
              " 88,\n",
              " 4,\n",
              " 381,\n",
              " 15,\n",
              " 297,\n",
              " 98,\n",
              " 32,\n",
              " 2071,\n",
              " 56,\n",
              " 26,\n",
              " 141,\n",
              " 6,\n",
              " 194,\n",
              " 7486,\n",
              " 18,\n",
              " 4,\n",
              " 226,\n",
              " 22,\n",
              " 21,\n",
              " 134,\n",
              " 476,\n",
              " 26,\n",
              " 480,\n",
              " 5,\n",
              " 144,\n",
              " 30,\n",
              " 5535,\n",
              " 18,\n",
              " 51,\n",
              " 36,\n",
              " 28,\n",
              " 224,\n",
              " 92,\n",
              " 25,\n",
              " 104,\n",
              " 4,\n",
              " 226,\n",
              " 65,\n",
              " 16,\n",
              " 38,\n",
              " 1334,\n",
              " 88,\n",
              " 12,\n",
              " 16,\n",
              " 283,\n",
              " 5,\n",
              " 16,\n",
              " 4472,\n",
              " 113,\n",
              " 103,\n",
              " 32,\n",
              " 15,\n",
              " 16,\n",
              " 5345,\n",
              " 19,\n",
              " 178,\n",
              " 32]"
            ]
          },
          "metadata": {
            "tags": []
          },
          "execution_count": 3
        }
      ]
    },
    {
      "metadata": {
        "id": "sTUGwqK3mU4F",
        "colab_type": "code",
        "colab": {
          "autoexec": {
            "startup": false,
            "wait_interval": 0
          },
          "base_uri": "https://localhost:8080/",
          "height": 34
        },
        "outputId": "66ab8653-39e2-4482-aae7-40894b71311c",
        "executionInfo": {
          "status": "ok",
          "timestamp": 1532306852160,
          "user_tz": 180,
          "elapsed": 907,
          "user": {
            "displayName": "Matheus Prandini",
            "photoUrl": "//lh4.googleusercontent.com/-BBr1ZSZQjdk/AAAAAAAAAAI/AAAAAAAAAJ8/TEhOumGfZjA/s50-c-k-no/photo.jpg",
            "userId": "115063345291042990602"
          }
        }
      },
      "cell_type": "code",
      "source": [
        "train_labels[0]"
      ],
      "execution_count": 4,
      "outputs": [
        {
          "output_type": "execute_result",
          "data": {
            "text/plain": [
              "1"
            ]
          },
          "metadata": {
            "tags": []
          },
          "execution_count": 4
        }
      ]
    },
    {
      "metadata": {
        "id": "gfV1AwhcmhaE",
        "colab_type": "code",
        "colab": {
          "autoexec": {
            "startup": false,
            "wait_interval": 0
          },
          "base_uri": "https://localhost:8080/",
          "height": 34
        },
        "outputId": "6b915a4f-1ceb-4ece-9c2c-f24d6f86c2a4",
        "executionInfo": {
          "status": "ok",
          "timestamp": 1532306861477,
          "user_tz": 180,
          "elapsed": 847,
          "user": {
            "displayName": "Matheus Prandini",
            "photoUrl": "//lh4.googleusercontent.com/-BBr1ZSZQjdk/AAAAAAAAAAI/AAAAAAAAAJ8/TEhOumGfZjA/s50-c-k-no/photo.jpg",
            "userId": "115063345291042990602"
          }
        }
      },
      "cell_type": "code",
      "source": [
        "max([max(sequence) for sequence in train_data])"
      ],
      "execution_count": 5,
      "outputs": [
        {
          "output_type": "execute_result",
          "data": {
            "text/plain": [
              "9999"
            ]
          },
          "metadata": {
            "tags": []
          },
          "execution_count": 5
        }
      ]
    },
    {
      "metadata": {
        "id": "ZkOVVYO8m3Rz",
        "colab_type": "code",
        "colab": {
          "autoexec": {
            "startup": false,
            "wait_interval": 0
          },
          "base_uri": "https://localhost:8080/",
          "height": 54
        },
        "outputId": "f6c3215b-8c9d-45a8-ba16-099bd06c15e9",
        "executionInfo": {
          "status": "ok",
          "timestamp": 1532307068019,
          "user_tz": 180,
          "elapsed": 840,
          "user": {
            "displayName": "Matheus Prandini",
            "photoUrl": "//lh4.googleusercontent.com/-BBr1ZSZQjdk/AAAAAAAAAAI/AAAAAAAAAJ8/TEhOumGfZjA/s50-c-k-no/photo.jpg",
            "userId": "115063345291042990602"
          }
        }
      },
      "cell_type": "code",
      "source": [
        "# Quickly decode of one of these reviews back to English words\n",
        "\n",
        "word_index = imdb.get_word_index() # word_index is a dictionary mapping words to an integer index.\n",
        "reverse_word_index = dict(\n",
        "    [(value, key) for (key, value) in word_index.items()]) # Reverses it, mapping integer indices to words\n",
        "decoded_review = ' '.join(\n",
        "    [reverse_word_index.get(i - 3, '?') for i in train_data[0]]) # Decodes the review.\n",
        "print(decoded_review)"
      ],
      "execution_count": 7,
      "outputs": [
        {
          "output_type": "stream",
          "text": [
            "? this film was just brilliant casting location scenery story direction everyone's really suited the part they played and you could just imagine being there robert ? is an amazing actor and now the same being director ? father came from the same scottish island as myself so i loved the fact there was a real connection with this film the witty remarks throughout the film were great it was just brilliant so much that i bought the film as soon as it was released for ? and would recommend it to everyone to watch and the fly fishing was amazing really cried at the end it was so sad and you know what they say if you cry at a film it must have been good and this definitely was also ? to the two little boy's that played the ? of norman and paul they were just brilliant children are often left out of the ? list i think because the stars that play them all grown up are such a big profile for the whole film but these children are amazing and should be praised for what they have done don't you think the whole story was so lovely because it was true and was someone's life after all that was shared with us all\n"
          ],
          "name": "stdout"
        }
      ]
    },
    {
      "metadata": {
        "id": "zMl5DfqKnwQV",
        "colab_type": "text"
      },
      "cell_type": "markdown",
      "source": [
        "## Preparing the Data"
      ]
    },
    {
      "metadata": {
        "id": "gkrt5h8gnvdd",
        "colab_type": "code",
        "colab": {
          "autoexec": {
            "startup": false,
            "wait_interval": 0
          }
        }
      },
      "cell_type": "code",
      "source": [
        "# Encoding the integer sequences into a binary matrix\n",
        "\n",
        "import numpy as np\n",
        "\n",
        "def vectorize_sequences(sequences, dimension=10000):\n",
        "    # Creates an all-zero matrix of shape (len(sequences), dimension)\n",
        "    results = np.zeros((len(sequences), dimension))\n",
        "    for i, sequence in enumerate(sequences):\n",
        "        # Sets specific indices of results[i] to 1s\n",
        "        results[i, sequence] = 1.\n",
        "    return results\n",
        "\n",
        "x_train = vectorize_sequences(train_data) # Vectorized training data\n",
        "x_test = vectorize_sequences(test_data) # Vectorized test data"
      ],
      "execution_count": 0,
      "outputs": []
    },
    {
      "metadata": {
        "id": "O_BVXSapofZ3",
        "colab_type": "code",
        "colab": {
          "autoexec": {
            "startup": false,
            "wait_interval": 0
          },
          "base_uri": "https://localhost:8080/",
          "height": 34
        },
        "outputId": "54d7c53e-1304-46eb-bdd4-925a7a223934",
        "executionInfo": {
          "status": "ok",
          "timestamp": 1532307314899,
          "user_tz": 180,
          "elapsed": 872,
          "user": {
            "displayName": "Matheus Prandini",
            "photoUrl": "//lh4.googleusercontent.com/-BBr1ZSZQjdk/AAAAAAAAAAI/AAAAAAAAAJ8/TEhOumGfZjA/s50-c-k-no/photo.jpg",
            "userId": "115063345291042990602"
          }
        }
      },
      "cell_type": "code",
      "source": [
        "x_train[0]"
      ],
      "execution_count": 9,
      "outputs": [
        {
          "output_type": "execute_result",
          "data": {
            "text/plain": [
              "array([0., 1., 1., ..., 0., 0., 0.])"
            ]
          },
          "metadata": {
            "tags": []
          },
          "execution_count": 9
        }
      ]
    },
    {
      "metadata": {
        "id": "t0bEs4DXokn5",
        "colab_type": "code",
        "colab": {
          "autoexec": {
            "startup": false,
            "wait_interval": 0
          }
        }
      },
      "cell_type": "code",
      "source": [
        "# Vectorizing the labels\n",
        "\n",
        "y_train = np.asarray(train_labels).astype('float32')\n",
        "y_test = np.asarray(test_labels).astype('float32')"
      ],
      "execution_count": 0,
      "outputs": []
    },
    {
      "metadata": {
        "id": "t7hfULvjotfb",
        "colab_type": "code",
        "colab": {
          "autoexec": {
            "startup": false,
            "wait_interval": 0
          },
          "base_uri": "https://localhost:8080/",
          "height": 34
        },
        "outputId": "678098b4-da9f-4e52-862c-6e5d8d8af5e5",
        "executionInfo": {
          "status": "ok",
          "timestamp": 1532307371020,
          "user_tz": 180,
          "elapsed": 1190,
          "user": {
            "displayName": "Matheus Prandini",
            "photoUrl": "//lh4.googleusercontent.com/-BBr1ZSZQjdk/AAAAAAAAAAI/AAAAAAAAAJ8/TEhOumGfZjA/s50-c-k-no/photo.jpg",
            "userId": "115063345291042990602"
          }
        }
      },
      "cell_type": "code",
      "source": [
        "y_train[0]"
      ],
      "execution_count": 11,
      "outputs": [
        {
          "output_type": "execute_result",
          "data": {
            "text/plain": [
              "1.0"
            ]
          },
          "metadata": {
            "tags": []
          },
          "execution_count": 11
        }
      ]
    },
    {
      "metadata": {
        "id": "EkBOUC72pcYn",
        "colab_type": "text"
      },
      "cell_type": "markdown",
      "source": [
        "## Building the Network"
      ]
    },
    {
      "metadata": {
        "id": "AhCiy7bHpe7F",
        "colab_type": "code",
        "colab": {
          "autoexec": {
            "startup": false,
            "wait_interval": 0
          }
        }
      },
      "cell_type": "code",
      "source": [
        "from keras import models\n",
        "from keras import layers\n",
        "\n",
        "model = models.Sequential()\n",
        "# First hidden layer -> relu activation\n",
        "model.add(layers.Dense(16, activation='relu', input_shape=(10000,)))\n",
        "# Second hidden layer -> relu activation\n",
        "model.add(layers.Dense(16, activation='relu'))\n",
        "# Output layer -> sigmoid activation (value between 0 and T1)\n",
        "model.add(layers.Dense(1, activation='sigmoid'))"
      ],
      "execution_count": 0,
      "outputs": []
    },
    {
      "metadata": {
        "id": "SY1Tv9G4qf2E",
        "colab_type": "code",
        "colab": {
          "autoexec": {
            "startup": false,
            "wait_interval": 0
          }
        }
      },
      "cell_type": "code",
      "source": [
        "# Compiling the model\n",
        "model.compile(optimizer='rmsprop',\n",
        "              loss='binary_crossentropy',\n",
        "              metrics=['accuracy'])"
      ],
      "execution_count": 0,
      "outputs": []
    },
    {
      "metadata": {
        "id": "WWGTRKEKqwo3",
        "colab_type": "code",
        "colab": {
          "autoexec": {
            "startup": false,
            "wait_interval": 0
          }
        }
      },
      "cell_type": "code",
      "source": [
        "# Configuring the optimizer\n",
        "from keras import optimizers\n",
        "\n",
        "model.compile(optimizer=optimizers.RMSprop(lr=0.001),\n",
        "              loss='binary_crossentropy',\n",
        "              metrics=['accuracy'])"
      ],
      "execution_count": 0,
      "outputs": []
    },
    {
      "metadata": {
        "id": "9qtr-ZGVq1li",
        "colab_type": "code",
        "colab": {
          "autoexec": {
            "startup": false,
            "wait_interval": 0
          }
        }
      },
      "cell_type": "code",
      "source": [
        "# Using custom losses and metrics\n",
        "from keras import losses\n",
        "from keras import metrics\n",
        "\n",
        "model.compile(optimizer=optimizers.RMSprop(lr=0.001),\n",
        "              loss=losses.binary_crossentropy,\n",
        "              metrics=[metrics.binary_accuracy])"
      ],
      "execution_count": 0,
      "outputs": []
    },
    {
      "metadata": {
        "id": "cSK-H2rkrA3Q",
        "colab_type": "text"
      },
      "cell_type": "markdown",
      "source": [
        "## Validating the approach"
      ]
    },
    {
      "metadata": {
        "id": "QEGGFMRIrDQ1",
        "colab_type": "code",
        "colab": {
          "autoexec": {
            "startup": false,
            "wait_interval": 0
          }
        }
      },
      "cell_type": "code",
      "source": [
        "# Validation set to monitor the accuracy of the model to data \n",
        "# it's never seen before during the training\n",
        "x_val = x_train[:10000]\n",
        "partial_x_train = x_train[10000:]\n",
        "y_val = y_train[:10000]\n",
        "partial_y_train = y_train[10000:]"
      ],
      "execution_count": 0,
      "outputs": []
    },
    {
      "metadata": {
        "id": "_uI2khM-rDUH",
        "colab_type": "code",
        "colab": {
          "autoexec": {
            "startup": false,
            "wait_interval": 0
          },
          "base_uri": "https://localhost:8080/",
          "height": 734
        },
        "outputId": "b59b534d-2bbe-4567-b1f9-be8a45f97382",
        "executionInfo": {
          "status": "ok",
          "timestamp": 1532308186928,
          "user_tz": 180,
          "elapsed": 32041,
          "user": {
            "displayName": "Matheus Prandini",
            "photoUrl": "//lh4.googleusercontent.com/-BBr1ZSZQjdk/AAAAAAAAAAI/AAAAAAAAAJ8/TEhOumGfZjA/s50-c-k-no/photo.jpg",
            "userId": "115063345291042990602"
          }
        }
      },
      "cell_type": "code",
      "source": [
        "# Training the model\n",
        "model.compile(optimizer='rmsprop',\n",
        "              loss='binary_crossentropy',\n",
        "              metrics=['acc'])\n",
        "\n",
        "history = model.fit(partial_x_train,\n",
        "                    partial_y_train,\n",
        "                    epochs=20,\n",
        "                    batch_size=512,\n",
        "                    validation_data=(x_val, y_val))"
      ],
      "execution_count": 17,
      "outputs": [
        {
          "output_type": "stream",
          "text": [
            "Train on 15000 samples, validate on 10000 samples\n",
            "Epoch 1/20\n",
            "15000/15000 [==============================] - 3s 197us/step - loss: 0.5084 - acc: 0.7813 - val_loss: 0.3797 - val_acc: 0.8684\n",
            "Epoch 2/20\n",
            "15000/15000 [==============================] - 1s 99us/step - loss: 0.3004 - acc: 0.9047 - val_loss: 0.3004 - val_acc: 0.8897\n",
            "Epoch 3/20\n",
            "15000/15000 [==============================] - 1s 98us/step - loss: 0.2179 - acc: 0.9285 - val_loss: 0.3085 - val_acc: 0.8711\n",
            "Epoch 4/20\n",
            "15000/15000 [==============================] - 1s 97us/step - loss: 0.1750 - acc: 0.9437 - val_loss: 0.2840 - val_acc: 0.8832\n",
            "Epoch 5/20\n",
            "15000/15000 [==============================] - 1s 97us/step - loss: 0.1427 - acc: 0.9543 - val_loss: 0.2841 - val_acc: 0.8872\n",
            "Epoch 6/20\n",
            "15000/15000 [==============================] - 1s 97us/step - loss: 0.1150 - acc: 0.9650 - val_loss: 0.3166 - val_acc: 0.8772\n",
            "Epoch 7/20\n",
            "15000/15000 [==============================] - 1s 97us/step - loss: 0.0980 - acc: 0.9705 - val_loss: 0.3127 - val_acc: 0.8846\n",
            "Epoch 8/20\n",
            "15000/15000 [==============================] - 1s 98us/step - loss: 0.0807 - acc: 0.9763 - val_loss: 0.3859 - val_acc: 0.8649\n",
            "Epoch 9/20\n",
            "14848/15000 [============================>.] - ETA: 0s - loss: 0.0658 - acc: 0.9824"
          ],
          "name": "stdout"
        },
        {
          "output_type": "stream",
          "text": [
            "15000/15000 [==============================] - 1s 97us/step - loss: 0.0661 - acc: 0.9821 - val_loss: 0.3635 - val_acc: 0.8782\n",
            "Epoch 10/20\n",
            "15000/15000 [==============================] - 1s 97us/step - loss: 0.0561 - acc: 0.9853 - val_loss: 0.3843 - val_acc: 0.8792\n",
            "Epoch 11/20\n",
            "15000/15000 [==============================] - 1s 97us/step - loss: 0.0439 - acc: 0.9893 - val_loss: 0.4153 - val_acc: 0.8779\n",
            "Epoch 12/20\n",
            "15000/15000 [==============================] - 1s 99us/step - loss: 0.0381 - acc: 0.9921 - val_loss: 0.4525 - val_acc: 0.8690\n",
            "Epoch 13/20\n",
            "15000/15000 [==============================] - 2s 100us/step - loss: 0.0300 - acc: 0.9928 - val_loss: 0.4698 - val_acc: 0.8729\n",
            "Epoch 14/20\n",
            "15000/15000 [==============================] - 1s 97us/step - loss: 0.0247 - acc: 0.9945 - val_loss: 0.5023 - val_acc: 0.8726\n",
            "Epoch 15/20\n",
            "15000/15000 [==============================] - 1s 98us/step - loss: 0.0175 - acc: 0.9979 - val_loss: 0.5342 - val_acc: 0.8693\n",
            "Epoch 16/20\n",
            "15000/15000 [==============================] - 1s 98us/step - loss: 0.0149 - acc: 0.9983 - val_loss: 0.5710 - val_acc: 0.8699\n",
            "Epoch 17/20\n",
            "15000/15000 [==============================] - 1s 98us/step - loss: 0.0151 - acc: 0.9971 - val_loss: 0.6024 - val_acc: 0.8697\n",
            "Epoch 18/20\n",
            " 5632/15000 [==========>...................] - ETA: 0s - loss: 0.0064 - acc: 1.0000"
          ],
          "name": "stdout"
        },
        {
          "output_type": "stream",
          "text": [
            "15000/15000 [==============================] - 1s 99us/step - loss: 0.0075 - acc: 0.9996 - val_loss: 0.6822 - val_acc: 0.8632\n",
            "Epoch 19/20\n",
            "15000/15000 [==============================] - 1s 97us/step - loss: 0.0121 - acc: 0.9971 - val_loss: 0.6771 - val_acc: 0.8651\n",
            "Epoch 20/20\n",
            "15000/15000 [==============================] - 1s 97us/step - loss: 0.0041 - acc: 0.9999 - val_loss: 0.6900 - val_acc: 0.8657\n"
          ],
          "name": "stdout"
        }
      ]
    },
    {
      "metadata": {
        "id": "uPtt1l2BsDTP",
        "colab_type": "code",
        "colab": {
          "autoexec": {
            "startup": false,
            "wait_interval": 0
          },
          "base_uri": "https://localhost:8080/",
          "height": 34
        },
        "outputId": "9fa54907-6271-4243-addb-bcf7552de908",
        "executionInfo": {
          "status": "ok",
          "timestamp": 1532308251968,
          "user_tz": 180,
          "elapsed": 1169,
          "user": {
            "displayName": "Matheus Prandini",
            "photoUrl": "//lh4.googleusercontent.com/-BBr1ZSZQjdk/AAAAAAAAAAI/AAAAAAAAAJ8/TEhOumGfZjA/s50-c-k-no/photo.jpg",
            "userId": "115063345291042990602"
          }
        }
      },
      "cell_type": "code",
      "source": [
        "history_dict = history.history\n",
        "history_dict.keys()"
      ],
      "execution_count": 18,
      "outputs": [
        {
          "output_type": "execute_result",
          "data": {
            "text/plain": [
              "dict_keys(['val_loss', 'val_acc', 'loss', 'acc'])"
            ]
          },
          "metadata": {
            "tags": []
          },
          "execution_count": 18
        }
      ]
    },
    {
      "metadata": {
        "id": "1AjLiY8bsR2J",
        "colab_type": "code",
        "colab": {
          "autoexec": {
            "startup": false,
            "wait_interval": 0
          },
          "base_uri": "https://localhost:8080/",
          "height": 376
        },
        "outputId": "c3788bc4-044b-4765-da02-8ca369bc282d",
        "executionInfo": {
          "status": "ok",
          "timestamp": 1532308432576,
          "user_tz": 180,
          "elapsed": 1139,
          "user": {
            "displayName": "Matheus Prandini",
            "photoUrl": "//lh4.googleusercontent.com/-BBr1ZSZQjdk/AAAAAAAAAAI/AAAAAAAAAJ8/TEhOumGfZjA/s50-c-k-no/photo.jpg",
            "userId": "115063345291042990602"
          }
        }
      },
      "cell_type": "code",
      "source": [
        "# Plotting the training and validation loss\n",
        "import matplotlib.pyplot as plt\n",
        "\n",
        "history_dict = history.history\n",
        "loss_values = history_dict['loss']\n",
        "val_loss_values = history_dict['val_loss']\n",
        "acc = history_dict['acc']\n",
        "\n",
        "epochs = range(1, len(acc) + 1)\n",
        "\n",
        "plt.plot(epochs, loss_values, 'bo', label='Training loss') # “bo” is for “blue dot.”\n",
        "plt.plot(epochs, val_loss_values, 'b', label='Validation loss') # “b” is for “solid blue line.”\n",
        "plt.title('Training and validation loss')\n",
        "plt.xlabel('Epochs')\n",
        "plt.ylabel('Loss')\n",
        "plt.legend()\n",
        "\n",
        "plt.show()"
      ],
      "execution_count": 20,
      "outputs": [
        {
          "output_type": "display_data",
          "data": {
            "image/png": "[encoded data removed]",
            "text/plain": [
              "<matplotlib.figure.Figure at 0x7fed6d6570b8>"
            ]
          },
          "metadata": {
            "tags": []
          }
        }
      ]
    },
    {
      "metadata": {
        "id": "jDTwYGn_s7ot",
        "colab_type": "code",
        "colab": {
          "autoexec": {
            "startup": false,
            "wait_interval": 0
          },
          "base_uri": "https://localhost:8080/",
          "height": 376
        },
        "outputId": "71a6a80d-736e-4253-fc9f-27aad43687ce",
        "executionInfo": {
          "status": "ok",
          "timestamp": 1532308513108,
          "user_tz": 180,
          "elapsed": 1011,
          "user": {
            "displayName": "Matheus Prandini",
            "photoUrl": "//lh4.googleusercontent.com/-BBr1ZSZQjdk/AAAAAAAAAAI/AAAAAAAAAJ8/TEhOumGfZjA/s50-c-k-no/photo.jpg",
            "userId": "115063345291042990602"
          }
        }
      },
      "cell_type": "code",
      "source": [
        "# Plotting the training and validation accuracy\n",
        "plt.clf() # clears the figure\n",
        "acc_values = history_dict['acc']\n",
        "val_acc_values = history_dict['val_acc']\n",
        "\n",
        "plt.plot(epochs, acc_values, 'bo', label='Training acc')\n",
        "plt.plot(epochs, val_acc_values, 'b', label='Validation acc')\n",
        "plt.title('Training and validation accuracy')\n",
        "plt.xlabel('Epochs')\n",
        "plt.ylabel('Loss')\n",
        "plt.legend()\n",
        "\n",
        "plt.show()"
      ],
      "execution_count": 22,
      "outputs": [
        {
          "output_type": "display_data",
          "data": {
            "image/png": "[encoded data removed]",
            "text/plain": [
              "<matplotlib.figure.Figure at 0x7fed7ea3b8d0>"
            ]
          },
          "metadata": {
            "tags": []
          }
        }
      ]
    },
    {
      "metadata": {
        "id": "iErCDdQitnU2",
        "colab_type": "code",
        "colab": {
          "autoexec": {
            "startup": false,
            "wait_interval": 0
          },
          "base_uri": "https://localhost:8080/",
          "height": 170
        },
        "outputId": "542034ad-06ca-46d8-e2d5-b8bcafea35dd",
        "executionInfo": {
          "status": "ok",
          "timestamp": 1532308719572,
          "user_tz": 180,
          "elapsed": 11077,
          "user": {
            "displayName": "Matheus Prandini",
            "photoUrl": "//lh4.googleusercontent.com/-BBr1ZSZQjdk/AAAAAAAAAAI/AAAAAAAAAJ8/TEhOumGfZjA/s50-c-k-no/photo.jpg",
            "userId": "115063345291042990602"
          }
        }
      },
      "cell_type": "code",
      "source": [
        "# Retraining a model from scratch\n",
        "\n",
        "model = models.Sequential()\n",
        "model.add(layers.Dense(16, activation='relu', input_shape=(10000,)))\n",
        "model.add(layers.Dense(16, activation='relu'))\n",
        "model.add(layers.Dense(1, activation='sigmoid'))\n",
        "\n",
        "model.compile(optimizer='rmsprop',\n",
        "              loss='binary_crossentropy',\n",
        "              metrics=['accuracy'])\n",
        "\n",
        "model.fit(x_train, y_train, epochs=4, batch_size=512)\n",
        "results = model.evaluate(x_test, y_test)"
      ],
      "execution_count": 26,
      "outputs": [
        {
          "output_type": "stream",
          "text": [
            "Epoch 1/4\n",
            "25000/25000 [==============================] - 2s 69us/step - loss: 0.4584 - acc: 0.8133\n",
            "Epoch 2/4\n",
            "25000/25000 [==============================] - 2s 62us/step - loss: 0.2630 - acc: 0.9095\n",
            "Epoch 3/4\n",
            "25000/25000 [==============================] - 2s 63us/step - loss: 0.2005 - acc: 0.9282\n",
            "Epoch 4/4\n",
            "25000/25000 [==============================] - 2s 64us/step - loss: 0.1685 - acc: 0.9388\n",
            "25000/25000 [==============================] - 4s 140us/step\n"
          ],
          "name": "stdout"
        }
      ]
    },
    {
      "metadata": {
        "id": "PmtO0Ozytxop",
        "colab_type": "code",
        "colab": {
          "autoexec": {
            "startup": false,
            "wait_interval": 0
          },
          "base_uri": "https://localhost:8080/",
          "height": 34
        },
        "outputId": "233c3b22-14cd-4a22-ecc1-423b408e94f7",
        "executionInfo": {
          "status": "ok",
          "timestamp": 1532308722995,
          "user_tz": 180,
          "elapsed": 856,
          "user": {
            "displayName": "Matheus Prandini",
            "photoUrl": "//lh4.googleusercontent.com/-BBr1ZSZQjdk/AAAAAAAAAAI/AAAAAAAAAJ8/TEhOumGfZjA/s50-c-k-no/photo.jpg",
            "userId": "115063345291042990602"
          }
        }
      },
      "cell_type": "code",
      "source": [
        "# Final result\n",
        "results # Accuracy of 88% on test data"
      ],
      "execution_count": 27,
      "outputs": [
        {
          "output_type": "execute_result",
          "data": {
            "text/plain": [
              "[0.29884498374938967, 0.88256]"
            ]
          },
          "metadata": {
            "tags": []
          },
          "execution_count": 27
        }
      ]
    },
    {
      "metadata": {
        "id": "58n3dkufuJxo",
        "colab_type": "text"
      },
      "cell_type": "markdown",
      "source": [
        "## Generating predictions on new data"
      ]
    },
    {
      "metadata": {
        "id": "E4B1Ym0_uMUw",
        "colab_type": "code",
        "colab": {
          "autoexec": {
            "startup": false,
            "wait_interval": 0
          },
          "base_uri": "https://localhost:8080/",
          "height": 136
        },
        "outputId": "7e3d32b7-0a87-4c1a-b2be-be5619130964",
        "executionInfo": {
          "status": "ok",
          "timestamp": 1532308807602,
          "user_tz": 180,
          "elapsed": 3752,
          "user": {
            "displayName": "Matheus Prandini",
            "photoUrl": "//lh4.googleusercontent.com/-BBr1ZSZQjdk/AAAAAAAAAAI/AAAAAAAAAJ8/TEhOumGfZjA/s50-c-k-no/photo.jpg",
            "userId": "115063345291042990602"
          }
        }
      },
      "cell_type": "code",
      "source": [
        "model.predict(x_test)"
      ],
      "execution_count": 28,
      "outputs": [
        {
          "output_type": "execute_result",
          "data": {
            "text/plain": [
              "array([[0.21053138],\n",
              "       [0.99948835],\n",
              "       [0.9289998 ],\n",
              "       ...,\n",
              "       [0.14233981],\n",
              "       [0.10365896],\n",
              "       [0.7072803 ]], dtype=float32)"
            ]
          },
          "metadata": {
            "tags": []
          },
          "execution_count": 28
        }
      ]
    },
    {
      "metadata": {
        "id": "bAk0tYHCvTYp",
        "colab_type": "text"
      },
      "cell_type": "markdown",
      "source": [
        "## Further Experiments"
      ]
    },
    {
      "metadata": {
        "id": "SnLLPYCNvVXp",
        "colab_type": "text"
      },
      "cell_type": "markdown",
      "source": [
        "### Using only one hidden layer"
      ]
    },
    {
      "metadata": {
        "id": "WZ7RfLz-vYG5",
        "colab_type": "code",
        "colab": {
          "autoexec": {
            "startup": false,
            "wait_interval": 0
          },
          "base_uri": "https://localhost:8080/",
          "height": 238
        },
        "outputId": "f66ec613-9e65-4554-e6a0-e3c9c51d500e",
        "executionInfo": {
          "status": "ok",
          "timestamp": 1532309215875,
          "user_tz": 180,
          "elapsed": 12436,
          "user": {
            "displayName": "Matheus Prandini",
            "photoUrl": "//lh4.googleusercontent.com/-BBr1ZSZQjdk/AAAAAAAAAAI/AAAAAAAAAJ8/TEhOumGfZjA/s50-c-k-no/photo.jpg",
            "userId": "115063345291042990602"
          }
        }
      },
      "cell_type": "code",
      "source": [
        "x_val = x_train[:10000]\n",
        "partial_x_train = x_train[10000:]\n",
        "y_val = y_train[:10000]\n",
        "partial_y_train = y_train[10000:]\n",
        "\n",
        "model = models.Sequential()\n",
        "model.add(layers.Dense(16, activation='relu', input_shape=(10000,)))\n",
        "model.add(layers.Dense(1, activation='sigmoid'))\n",
        "\n",
        "model.compile(optimizer='rmsprop',\n",
        "              loss='binary_crossentropy',\n",
        "              metrics=['accuracy'])\n",
        "\n",
        "model.fit(partial_x_train,\n",
        "                    partial_y_train,\n",
        "                    epochs=5,\n",
        "                    batch_size=512,\n",
        "                    validation_data=(x_val, y_val))\n",
        "model.evaluate(x_test, y_test)"
      ],
      "execution_count": 29,
      "outputs": [
        {
          "output_type": "stream",
          "text": [
            "Train on 15000 samples, validate on 10000 samples\n",
            "Epoch 1/5\n",
            "15000/15000 [==============================] - 2s 114us/step - loss: 0.4915 - acc: 0.7965 - val_loss: 0.3798 - val_acc: 0.8751\n",
            "Epoch 2/5\n",
            "15000/15000 [==============================] - 2s 101us/step - loss: 0.3105 - acc: 0.9043 - val_loss: 0.3203 - val_acc: 0.8799\n",
            "Epoch 3/5\n",
            "15000/15000 [==============================] - 2s 101us/step - loss: 0.2396 - acc: 0.9258 - val_loss: 0.3005 - val_acc: 0.8806\n",
            "Epoch 4/5\n",
            "15000/15000 [==============================] - 2s 102us/step - loss: 0.1976 - acc: 0.9391 - val_loss: 0.2795 - val_acc: 0.8908\n",
            "Epoch 5/5\n",
            "15000/15000 [==============================] - 2s 102us/step - loss: 0.1650 - acc: 0.9505 - val_loss: 0.2771 - val_acc: 0.8897\n",
            "25000/25000 [==============================] - 3s 135us/step\n"
          ],
          "name": "stdout"
        },
        {
          "output_type": "execute_result",
          "data": {
            "text/plain": [
              "[0.29615624000072477, 0.88044]"
            ]
          },
          "metadata": {
            "tags": []
          },
          "execution_count": 29
        }
      ]
    },
    {
      "metadata": {
        "id": "VGdlJY7Ov0C4",
        "colab_type": "text"
      },
      "cell_type": "markdown",
      "source": [
        "### Using three hidden layers"
      ]
    },
    {
      "metadata": {
        "id": "4DU7TTkmvzXo",
        "colab_type": "code",
        "colab": {
          "autoexec": {
            "startup": false,
            "wait_interval": 0
          },
          "base_uri": "https://localhost:8080/",
          "height": 238
        },
        "outputId": "13ac9bf8-4ae2-40e3-843b-1a6fe7654e05",
        "executionInfo": {
          "status": "ok",
          "timestamp": 1532309278971,
          "user_tz": 180,
          "elapsed": 12508,
          "user": {
            "displayName": "Matheus Prandini",
            "photoUrl": "//lh4.googleusercontent.com/-BBr1ZSZQjdk/AAAAAAAAAAI/AAAAAAAAAJ8/TEhOumGfZjA/s50-c-k-no/photo.jpg",
            "userId": "115063345291042990602"
          }
        }
      },
      "cell_type": "code",
      "source": [
        "x_val = x_train[:10000]\n",
        "partial_x_train = x_train[10000:]\n",
        "y_val = y_train[:10000]\n",
        "partial_y_train = y_train[10000:]\n",
        "\n",
        "model = models.Sequential()\n",
        "model.add(layers.Dense(16, activation='relu', input_shape=(10000,)))\n",
        "model.add(layers.Dense(16, activation='relu'))\n",
        "model.add(layers.Dense(16, activation='relu'))\n",
        "model.add(layers.Dense(1, activation='sigmoid'))\n",
        "\n",
        "model.compile(optimizer='rmsprop',\n",
        "              loss='binary_crossentropy',\n",
        "              metrics=['accuracy'])\n",
        "\n",
        "model.fit(partial_x_train,\n",
        "                    partial_y_train,\n",
        "                    epochs=5,\n",
        "                    batch_size=512,\n",
        "                    validation_data=(x_val, y_val))\n",
        "model.evaluate(x_test, y_test)"
      ],
      "execution_count": 30,
      "outputs": [
        {
          "output_type": "stream",
          "text": [
            "Train on 15000 samples, validate on 10000 samples\n",
            "Epoch 1/5\n",
            "15000/15000 [==============================] - 2s 123us/step - loss: 0.5622 - acc: 0.7572 - val_loss: 0.4176 - val_acc: 0.8603\n",
            "Epoch 2/5\n",
            "15000/15000 [==============================] - 2s 104us/step - loss: 0.3112 - acc: 0.9031 - val_loss: 0.2999 - val_acc: 0.8875\n",
            "Epoch 3/5\n",
            "15000/15000 [==============================] - 2s 104us/step - loss: 0.2189 - acc: 0.9273 - val_loss: 0.2773 - val_acc: 0.8911\n",
            "Epoch 4/5\n",
            "15000/15000 [==============================] - 2s 103us/step - loss: 0.1727 - acc: 0.9407 - val_loss: 0.2829 - val_acc: 0.8873\n",
            "Epoch 5/5\n",
            "15000/15000 [==============================] - 2s 104us/step - loss: 0.1355 - acc: 0.9554 - val_loss: 0.3014 - val_acc: 0.8850\n",
            "25000/25000 [==============================] - 3s 138us/step\n"
          ],
          "name": "stdout"
        },
        {
          "output_type": "execute_result",
          "data": {
            "text/plain": [
              "[0.3193832802963257, 0.87504]"
            ]
          },
          "metadata": {
            "tags": []
          },
          "execution_count": 30
        }
      ]
    },
    {
      "metadata": {
        "id": "WbjwRLKFwFVK",
        "colab_type": "text"
      },
      "cell_type": "markdown",
      "source": [
        "### Using hidden layers with more hidden units"
      ]
    },
    {
      "metadata": {
        "id": "-Mv4wJTewJEv",
        "colab_type": "code",
        "colab": {
          "autoexec": {
            "startup": false,
            "wait_interval": 0
          },
          "base_uri": "https://localhost:8080/",
          "height": 238
        },
        "outputId": "d4da1b24-b6cc-487f-99db-31544625abd1",
        "executionInfo": {
          "status": "ok",
          "timestamp": 1532309347457,
          "user_tz": 180,
          "elapsed": 12646,
          "user": {
            "displayName": "Matheus Prandini",
            "photoUrl": "//lh4.googleusercontent.com/-BBr1ZSZQjdk/AAAAAAAAAAI/AAAAAAAAAJ8/TEhOumGfZjA/s50-c-k-no/photo.jpg",
            "userId": "115063345291042990602"
          }
        }
      },
      "cell_type": "code",
      "source": [
        "x_val = x_train[:10000]\n",
        "partial_x_train = x_train[10000:]\n",
        "y_val = y_train[:10000]\n",
        "partial_y_train = y_train[10000:]\n",
        "\n",
        "model = models.Sequential()\n",
        "model.add(layers.Dense(32, activation='relu', input_shape=(10000,)))\n",
        "model.add(layers.Dense(64, activation='relu'))\n",
        "model.add(layers.Dense(64, activation='relu'))\n",
        "model.add(layers.Dense(1, activation='sigmoid'))\n",
        "\n",
        "model.compile(optimizer='rmsprop',\n",
        "              loss='binary_crossentropy',\n",
        "              metrics=['accuracy'])\n",
        "\n",
        "model.fit(partial_x_train,\n",
        "                    partial_y_train,\n",
        "                    epochs=5,\n",
        "                    batch_size=512,\n",
        "                    validation_data=(x_val, y_val))\n",
        "model.evaluate(x_test, y_test)"
      ],
      "execution_count": 31,
      "outputs": [
        {
          "output_type": "stream",
          "text": [
            "Train on 15000 samples, validate on 10000 samples\n",
            "Epoch 1/5\n",
            "15000/15000 [==============================] - 2s 123us/step - loss: 0.5009 - acc: 0.7542 - val_loss: 0.3599 - val_acc: 0.8526\n",
            "Epoch 2/5\n",
            "15000/15000 [==============================] - 2s 102us/step - loss: 0.2729 - acc: 0.8942 - val_loss: 0.2794 - val_acc: 0.8884\n",
            "Epoch 3/5\n",
            "15000/15000 [==============================] - 2s 102us/step - loss: 0.1869 - acc: 0.9321 - val_loss: 0.3188 - val_acc: 0.8778\n",
            "Epoch 4/5\n",
            "15000/15000 [==============================] - 2s 101us/step - loss: 0.1515 - acc: 0.9429 - val_loss: 0.3100 - val_acc: 0.8796\n",
            "Epoch 5/5\n",
            "15000/15000 [==============================] - 2s 101us/step - loss: 0.1125 - acc: 0.9618 - val_loss: 0.3255 - val_acc: 0.8849\n",
            "25000/25000 [==============================] - 3s 138us/step\n"
          ],
          "name": "stdout"
        },
        {
          "output_type": "execute_result",
          "data": {
            "text/plain": [
              "[0.35138606275081635, 0.87216]"
            ]
          },
          "metadata": {
            "tags": []
          },
          "execution_count": 31
        }
      ]
    },
    {
      "metadata": {
        "id": "KJ78qgqVwWEW",
        "colab_type": "code",
        "colab": {
          "autoexec": {
            "startup": false,
            "wait_interval": 0
          },
          "base_uri": "https://localhost:8080/",
          "height": 238
        },
        "outputId": "0db6a7a6-8a3e-4fac-df78-d7425b98d9ad",
        "executionInfo": {
          "status": "ok",
          "timestamp": 1532309398824,
          "user_tz": 180,
          "elapsed": 13043,
          "user": {
            "displayName": "Matheus Prandini",
            "photoUrl": "//lh4.googleusercontent.com/-BBr1ZSZQjdk/AAAAAAAAAAI/AAAAAAAAAJ8/TEhOumGfZjA/s50-c-k-no/photo.jpg",
            "userId": "115063345291042990602"
          }
        }
      },
      "cell_type": "code",
      "source": [
        "x_val = x_train[:10000]\n",
        "partial_x_train = x_train[10000:]\n",
        "y_val = y_train[:10000]\n",
        "partial_y_train = y_train[10000:]\n",
        "\n",
        "model = models.Sequential()\n",
        "model.add(layers.Dense(128, activation='relu', input_shape=(10000,)))\n",
        "model.add(layers.Dense(128, activation='relu'))\n",
        "model.add(layers.Dense(128, activation='relu'))\n",
        "model.add(layers.Dense(1, activation='sigmoid'))\n",
        "\n",
        "model.compile(optimizer='rmsprop',\n",
        "              loss='binary_crossentropy',\n",
        "              metrics=['accuracy'])\n",
        "\n",
        "model.fit(partial_x_train,\n",
        "                    partial_y_train,\n",
        "                    epochs=5,\n",
        "                    batch_size=512,\n",
        "                    validation_data=(x_val, y_val))\n",
        "model.evaluate(x_test, y_test)"
      ],
      "execution_count": 33,
      "outputs": [
        {
          "output_type": "stream",
          "text": [
            "Train on 15000 samples, validate on 10000 samples\n",
            "Epoch 1/5\n",
            "15000/15000 [==============================] - 2s 132us/step - loss: 0.5108 - acc: 0.7632 - val_loss: 0.3099 - val_acc: 0.8836\n",
            "Epoch 2/5\n",
            "15000/15000 [==============================] - 2s 107us/step - loss: 0.2683 - acc: 0.8967 - val_loss: 0.2849 - val_acc: 0.8865\n",
            "Epoch 3/5\n",
            "15000/15000 [==============================] - 2s 106us/step - loss: 0.1805 - acc: 0.9305 - val_loss: 0.2921 - val_acc: 0.8836\n",
            "Epoch 4/5\n",
            "15000/15000 [==============================] - 2s 103us/step - loss: 0.1365 - acc: 0.9487 - val_loss: 0.2890 - val_acc: 0.8812\n",
            "Epoch 5/5\n",
            "15000/15000 [==============================] - 2s 103us/step - loss: 0.0857 - acc: 0.9719 - val_loss: 0.3453 - val_acc: 0.8842\n",
            "25000/25000 [==============================] - 4s 140us/step\n"
          ],
          "name": "stdout"
        },
        {
          "output_type": "execute_result",
          "data": {
            "text/plain": [
              "[0.3727421020078659, 0.87424]"
            ]
          },
          "metadata": {
            "tags": []
          },
          "execution_count": 33
        }
      ]
    },
    {
      "metadata": {
        "id": "XM1vCEwxwgUb",
        "colab_type": "text"
      },
      "cell_type": "markdown",
      "source": [
        "### Using mse loss"
      ]
    },
    {
      "metadata": {
        "id": "VvmxFo70wi6L",
        "colab_type": "code",
        "colab": {
          "autoexec": {
            "startup": false,
            "wait_interval": 0
          },
          "base_uri": "https://localhost:8080/",
          "height": 238
        },
        "outputId": "8d359c8f-e6d1-43d7-d1b8-4d2a62353bab",
        "executionInfo": {
          "status": "ok",
          "timestamp": 1532309453085,
          "user_tz": 180,
          "elapsed": 12072,
          "user": {
            "displayName": "Matheus Prandini",
            "photoUrl": "//lh4.googleusercontent.com/-BBr1ZSZQjdk/AAAAAAAAAAI/AAAAAAAAAJ8/TEhOumGfZjA/s50-c-k-no/photo.jpg",
            "userId": "115063345291042990602"
          }
        }
      },
      "cell_type": "code",
      "source": [
        "x_val = x_train[:10000]\n",
        "partial_x_train = x_train[10000:]\n",
        "y_val = y_train[:10000]\n",
        "partial_y_train = y_train[10000:]\n",
        "\n",
        "model = models.Sequential()\n",
        "model.add(layers.Dense(16, activation='relu', input_shape=(10000,)))\n",
        "model.add(layers.Dense(16, activation='relu'))\n",
        "model.add(layers.Dense(1, activation='sigmoid'))\n",
        "\n",
        "model.compile(optimizer='rmsprop',\n",
        "              loss='mse',\n",
        "              metrics=['accuracy'])\n",
        "\n",
        "model.fit(partial_x_train,\n",
        "                    partial_y_train,\n",
        "                    epochs=5,\n",
        "                    batch_size=512,\n",
        "                    validation_data=(x_val, y_val))\n",
        "model.evaluate(x_test, y_test)"
      ],
      "execution_count": 34,
      "outputs": [
        {
          "output_type": "stream",
          "text": [
            "Train on 15000 samples, validate on 10000 samples\n",
            "Epoch 1/5\n",
            "15000/15000 [==============================] - 2s 116us/step - loss: 0.1818 - acc: 0.7788 - val_loss: 0.1332 - val_acc: 0.8518\n",
            "Epoch 2/5\n",
            "15000/15000 [==============================] - 1s 95us/step - loss: 0.1007 - acc: 0.9012 - val_loss: 0.0977 - val_acc: 0.8860\n",
            "Epoch 3/5\n",
            "15000/15000 [==============================] - 1s 98us/step - loss: 0.0701 - acc: 0.9264 - val_loss: 0.0871 - val_acc: 0.8898\n",
            "Epoch 4/5\n",
            "15000/15000 [==============================] - 1s 97us/step - loss: 0.0541 - acc: 0.9421 - val_loss: 0.0840 - val_acc: 0.8918\n",
            "Epoch 5/5\n",
            "15000/15000 [==============================] - 1s 97us/step - loss: 0.0425 - acc: 0.9578 - val_loss: 0.0826 - val_acc: 0.8861\n",
            "25000/25000 [==============================] - 3s 135us/step\n"
          ],
          "name": "stdout"
        },
        {
          "output_type": "execute_result",
          "data": {
            "text/plain": [
              "[0.0891018616271019, 0.87992]"
            ]
          },
          "metadata": {
            "tags": []
          },
          "execution_count": 34
        }
      ]
    },
    {
      "metadata": {
        "id": "YjHuCKvqw3z9",
        "colab_type": "text"
      },
      "cell_type": "markdown",
      "source": [
        "### Using tanh activation"
      ]
    },
    {
      "metadata": {
        "id": "mSp63uj6xAgD",
        "colab_type": "code",
        "colab": {
          "autoexec": {
            "startup": false,
            "wait_interval": 0
          },
          "base_uri": "https://localhost:8080/",
          "height": 238
        },
        "outputId": "6298c70e-cdd6-4116-9525-981e07f41ee8",
        "executionInfo": {
          "status": "ok",
          "timestamp": 1532309573425,
          "user_tz": 180,
          "elapsed": 12407,
          "user": {
            "displayName": "Matheus Prandini",
            "photoUrl": "//lh4.googleusercontent.com/-BBr1ZSZQjdk/AAAAAAAAAAI/AAAAAAAAAJ8/TEhOumGfZjA/s50-c-k-no/photo.jpg",
            "userId": "115063345291042990602"
          }
        }
      },
      "cell_type": "code",
      "source": [
        "x_val = x_train[:10000]\n",
        "partial_x_train = x_train[10000:]\n",
        "y_val = y_train[:10000]\n",
        "partial_y_train = y_train[10000:]\n",
        "\n",
        "model = models.Sequential()\n",
        "model.add(layers.Dense(16, activation='tanh', input_shape=(10000,)))\n",
        "model.add(layers.Dense(16, activation='tanh'))\n",
        "model.add(layers.Dense(1, activation='sigmoid'))\n",
        "\n",
        "model.compile(optimizer='rmsprop',\n",
        "              loss='binary_crossentropy',\n",
        "              metrics=['accuracy'])\n",
        "\n",
        "model.fit(partial_x_train,\n",
        "                    partial_y_train,\n",
        "                    epochs=5,\n",
        "                    batch_size=512,\n",
        "                    validation_data=(x_val, y_val))\n",
        "model.evaluate(x_test, y_test)"
      ],
      "execution_count": 35,
      "outputs": [
        {
          "output_type": "stream",
          "text": [
            "Train on 15000 samples, validate on 10000 samples\n",
            "Epoch 1/5\n",
            "15000/15000 [==============================] - 2s 120us/step - loss: 0.4868 - acc: 0.8007 - val_loss: 0.3607 - val_acc: 0.8712\n",
            "Epoch 2/5\n",
            "15000/15000 [==============================] - 1s 96us/step - loss: 0.2784 - acc: 0.9070 - val_loss: 0.2848 - val_acc: 0.8935\n",
            "Epoch 3/5\n",
            "15000/15000 [==============================] - 1s 97us/step - loss: 0.1972 - acc: 0.9335 - val_loss: 0.2794 - val_acc: 0.8862\n",
            "Epoch 4/5\n",
            "15000/15000 [==============================] - 1s 97us/step - loss: 0.1463 - acc: 0.9514 - val_loss: 0.2961 - val_acc: 0.8814\n",
            "Epoch 5/5\n",
            "15000/15000 [==============================] - 1s 97us/step - loss: 0.1134 - acc: 0.9625 - val_loss: 0.3062 - val_acc: 0.8846\n",
            "25000/25000 [==============================] - 3s 139us/step\n"
          ],
          "name": "stdout"
        },
        {
          "output_type": "execute_result",
          "data": {
            "text/plain": [
              "[0.3298256318664551, 0.87392]"
            ]
          },
          "metadata": {
            "tags": []
          },
          "execution_count": 35
        }
      ]
    }
  ]
}