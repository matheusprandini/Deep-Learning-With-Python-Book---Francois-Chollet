{
 "cells": [
  {
   "cell_type": "markdown",
   "metadata": {},
   "source": [
    "# The Gears of Neural Networks: Tensor Operations"
   ]
  },
  {
   "cell_type": "markdown",
   "metadata": {},
   "source": [
    "## Element-wise operations"
   ]
  },
  {
   "cell_type": "code",
   "execution_count": 3,
   "metadata": {},
   "outputs": [],
   "source": [
    "# Naive relu operation\n",
    "def naive_relu(x): \n",
    "    assert len(x.shape) == 2 # x is a 2D tensor \n",
    "\n",
    "    x = x.copy() # Avoid overwriting the input tensor\n",
    "    for i in range(x.shape[0]):\n",
    "        for j in range(x.shape[1]):\n",
    "            x[i, j] = max(x[i, j], 0)\n",
    "    return x"
   ]
  },
  {
   "cell_type": "code",
   "execution_count": 4,
   "metadata": {},
   "outputs": [],
   "source": [
    "# Naive addition operation\n",
    "def naive_add(x, y):\n",
    "    assert len(x.shape) == 2\n",
    "    assert x.shape == y.shape # x and y are 2D tensors of same shape\n",
    "\n",
    "    x = x.copy() # Avoid overwriting the input tensor\n",
    "    for i in range(x.shape[0]):\n",
    "        for j in range(x.shape[1]):\n",
    "            x[i, j] += y[i, j]\n",
    "    return x"
   ]
  },
  {
   "cell_type": "code",
   "execution_count": 6,
   "metadata": {},
   "outputs": [],
   "source": [
    "# Naive subtraction operation\n",
    "def naive_sub(x, y):\n",
    "    assert len(x.shape) == 2\n",
    "    assert x.shape == y.shape # x and y are 2D tensors of same shape\n",
    "\n",
    "    x = x.copy() # Avoid overwriting the input tensor\n",
    "    for i in range(x.shape[0]):\n",
    "        for j in range(x.shape[1]):\n",
    "            x[i, j] -= y[i, j]\n",
    "    return x"
   ]
  },
  {
   "cell_type": "code",
   "execution_count": 7,
   "metadata": {},
   "outputs": [],
   "source": [
    "# Naive multiplication operation\n",
    "def naive_mul(x, y):\n",
    "    assert len(x.shape) == 2\n",
    "    assert x.shape == y.shape # x and y are 2D tensors of same shape\n",
    "\n",
    "    x = x.copy() # Avoid overwriting the input tensor\n",
    "    for i in range(x.shape[0]):\n",
    "        for j in range(x.shape[1]):\n",
    "            x[i, j] *= y[i, j]\n",
    "    return x"
   ]
  },
  {
   "cell_type": "code",
   "execution_count": null,
   "metadata": {},
   "outputs": [],
   "source": [
    "# Element-wise operation using numpy\n",
    "import numpy as np\n",
    "\n",
    "z = x + y # Element-wise addition\n",
    "\n",
    "z = np.maximum(z, 0.) # Element-wise relu"
   ]
  },
  {
   "cell_type": "markdown",
   "metadata": {},
   "source": [
    "## Broadcasting"
   ]
  },
  {
   "cell_type": "code",
   "execution_count": 8,
   "metadata": {},
   "outputs": [],
   "source": [
    "# Naive addition of 2 tensors of different shapes\n",
    "def naive_add_matrix_and_vector(x, y):\n",
    "    assert len(x.shape) == 2 # x is a 2D Numpy tensor.\n",
    "    assert len(y.shape) == 1 # y is a Numpy vector.\n",
    "    assert x.shape[1] == y.shape[0]\n",
    "\n",
    "    x = x.copy() # Avoid overwriting the input tensor.\n",
    "    for i in range(x.shape[0]):\n",
    "        for j in range(x.shape[1]):\n",
    "            x[i, j] += y[j]\n",
    "    return x"
   ]
  },
  {
   "cell_type": "code",
   "execution_count": 10,
   "metadata": {},
   "outputs": [
    {
     "name": "stdout",
     "output_type": "stream",
     "text": [
      "(64, 3, 32, 10)\n"
     ]
    }
   ],
   "source": [
    "# Elemente-wise maximum operation\n",
    "import numpy as np\n",
    "\n",
    "x = np.random.random((64, 3, 32, 10)) # x is a random tensor with shape (64, 3, 32, 10).\n",
    "y = np.random.random((32, 10)) # y is a random tensor with shape (32, 10).\n",
    "\n",
    "z = np.maximum(x, y) # The output z has shape (64, 3, 32, 10) like x.\n",
    "\n",
    "print(z.shape)"
   ]
  },
  {
   "cell_type": "markdown",
   "metadata": {},
   "source": [
    "## Tensor Dot"
   ]
  },
  {
   "cell_type": "code",
   "execution_count": 12,
   "metadata": {},
   "outputs": [],
   "source": [
    "import numpy as np\n",
    "z = np.dot(x,y)"
   ]
  },
  {
   "cell_type": "code",
   "execution_count": 13,
   "metadata": {},
   "outputs": [],
   "source": [
    "# Naive dot operation between two vectors\n",
    "def naive_vector_dot(x, y):\n",
    "    assert len(x.shape) == 1\n",
    "    assert len(y.shape) == 1 \n",
    "    assert x.shape[0] == y.shape[0] # x and y are Numpy vectors.\n",
    "\n",
    "    z = 0.\n",
    "    for i in range(x.shape[0]):\n",
    "        z += x[i] * y[i] # dot operation applied for each element\n",
    "    return z"
   ]
  },
  {
   "cell_type": "code",
   "execution_count": 14,
   "metadata": {},
   "outputs": [],
   "source": [
    "# Naive dot operation between a matrix and a vector\n",
    "def naive_matrix_vector_dot(x, y):\n",
    "    assert len(x.shape) == 2 # x is a Numpy matrix.\n",
    "    assert len(y.shape) == 1 # y is a Numpy vector.\n",
    "    assert x.shape[1] == y.shape[0] # The first dimension of x must be the same as the 0th dimension of y!\n",
    "\n",
    "    # This operation returns a vector of 0s with the same shape as y.\n",
    "    z = np.zeros(x.shape[0])\n",
    "    for i in range(x.shape[0]):\n",
    "        for j in range(x.shape[1]):\n",
    "            z[i] += x[i, j] * y[j]\n",
    "    return z\n",
    "\n",
    "# Alternative way using last block\n",
    "def naive_matrix_vector_dot(x, y):\n",
    "    z = np.zeros(x.shape[0])\n",
    "    for i in range(x.shape[0]):\n",
    "        z[i] = naive_vector_dot(x[i, :], y)\n",
    "    return z"
   ]
  },
  {
   "cell_type": "code",
   "execution_count": 15,
   "metadata": {},
   "outputs": [],
   "source": [
    "# Naive dot operation between two matrices\n",
    "def naive_matrix_dot(x, y):\n",
    "    assert len(x.shape) == 2\n",
    "    assert len(y.shape) == 2 # x and y are Numpy matrices.\n",
    "    assert x.shape[1] == y.shape[0] # The first dimension of x must be the same as the 0th dimension of y!\n",
    "\n",
    "    z = np.zeros((x.shape[0], y.shape[1])) # This operation returns a matrix of 0s with a specific shape.\n",
    "    for i in range(x.shape[0]): # Iterates over the rows of x\n",
    "        for j in range(y.shape[1]): # And over the colums of y\n",
    "            row_x = x[i, :]\n",
    "            column_y = y[:, j]\n",
    "            z[i, j] = naive_vector_dot(row_x, column_y)\n",
    "    return z"
   ]
  },
  {
   "cell_type": "markdown",
   "metadata": {},
   "source": [
    "## Tensor Reshaping"
   ]
  },
  {
   "cell_type": "code",
   "execution_count": 16,
   "metadata": {},
   "outputs": [
    {
     "name": "stdout",
     "output_type": "stream",
     "text": [
      "(3, 2)\n"
     ]
    }
   ],
   "source": [
    "x = np.array([[0., 1.], [2., 3.], [4., 5.]])\n",
    "print(x.shape)"
   ]
  },
  {
   "cell_type": "code",
   "execution_count": 17,
   "metadata": {},
   "outputs": [
    {
     "name": "stdout",
     "output_type": "stream",
     "text": [
      "[[ 0.]\n",
      " [ 1.]\n",
      " [ 2.]\n",
      " [ 3.]\n",
      " [ 4.]\n",
      " [ 5.]]\n"
     ]
    }
   ],
   "source": [
    "x = x.reshape((6, 1))\n",
    "print(x)"
   ]
  },
  {
   "cell_type": "code",
   "execution_count": 19,
   "metadata": {},
   "outputs": [
    {
     "name": "stdout",
     "output_type": "stream",
     "text": [
      "[[ 0.  1.  2.]\n",
      " [ 3.  4.  5.]]\n"
     ]
    }
   ],
   "source": [
    "x = x.reshape((2,3))\n",
    "print(x)"
   ]
  },
  {
   "cell_type": "code",
   "execution_count": 20,
   "metadata": {},
   "outputs": [
    {
     "name": "stdout",
     "output_type": "stream",
     "text": [
      "(300, 20)\n",
      "(20, 300)\n"
     ]
    }
   ],
   "source": [
    "x = np.zeros((300, 20)) # Creates an all-zeros matrix of shape (300, 20)\n",
    "print(x.shape)\n",
    "x = np.transpose(x)\n",
    "print(x.shape)"
   ]
  },
  {
   "cell_type": "code",
   "execution_count": null,
   "metadata": {},
   "outputs": [],
   "source": []
  }
 ],
 "metadata": {
  "kernelspec": {
   "display_name": "Python 3",
   "language": "python",
   "name": "python3"
  },
  "language_info": {
   "codemirror_mode": {
    "name": "ipython",
    "version": 3
   },
   "file_extension": ".py",
   "mimetype": "text/x-python",
   "name": "python",
   "nbconvert_exporter": "python",
   "pygments_lexer": "ipython3",
   "version": "3.6.5"
  }
 },
 "nbformat": 4,
 "nbformat_minor": 2
}
